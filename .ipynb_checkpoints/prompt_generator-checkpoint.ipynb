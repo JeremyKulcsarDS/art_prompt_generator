{
 "cells": [
  {
   "cell_type": "markdown",
   "metadata": {},
   "source": [
    "# Mid-Journey artistic idea prompt generator"
   ]
  },
  {
   "cell_type": "markdown",
   "metadata": {},
   "source": [
    "- In this notebook, we will implement a brainstorming ideas function using OpenAI's GPT-3.5 model.\n",
    "- The function will take features from an audience as input and generate a collection of diverse ideas that emotionally resonate with it.\n",
    "- The ideas will be sent to Mid-Journey to generate artistic pictures that ultimately fit the target audience.."
   ]
  },
  {
   "cell_type": "markdown",
   "metadata": {},
   "source": [
    "## Import libraries"
   ]
  },
  {
   "cell_type": "code",
   "execution_count": 1,
   "metadata": {},
   "outputs": [
    {
     "name": "stderr",
     "output_type": "stream",
     "text": [
      "/opt/conda/lib/python3.8/site-packages/scipy/__init__.py:138: UserWarning: A NumPy version >=1.16.5 and <1.23.0 is required for this version of SciPy (detected version 1.24.4)\n",
      "  warnings.warn(f\"A NumPy version >={np_minversion} and <{np_maxversion} is required for this version of \"\n"
     ]
    }
   ],
   "source": [
    "import requests\n",
    "import json\n",
    "import os\n",
    "\n",
    "from dotenv import load_dotenv\n",
    "from pydantic import BaseModel\n",
    "from typing import Literal, List\n",
    "\n",
    "import autogen\n",
    "from autogen import OpenAIWrapper, ConversableAgent, UserProxyAgent"
   ]
  },
  {
   "cell_type": "markdown",
   "metadata": {},
   "source": [
    "## Load configurations"
   ]
  },
  {
   "cell_type": "code",
   "execution_count": 2,
   "metadata": {},
   "outputs": [
    {
     "data": {
      "text/plain": [
       "True"
      ]
     },
     "execution_count": 2,
     "metadata": {},
     "output_type": "execute_result"
    }
   ],
   "source": [
    "load_dotenv()"
   ]
  },
  {
   "cell_type": "code",
   "execution_count": 4,
   "metadata": {},
   "outputs": [],
   "source": [
    "config_list = autogen.config_list_from_models(\n",
    "    model_list=[os.environ.get('AZURE_OPENAI_DEPLOYMENT')],\n",
    ")\n",
    "\n",
    "client = OpenAIWrapper(config_list=config_list)"
   ]
  },
  {
   "cell_type": "markdown",
   "metadata": {},
   "source": [
    "## Define classes"
   ]
  },
  {
   "cell_type": "code",
   "execution_count": 5,
   "metadata": {},
   "outputs": [],
   "source": [
    "class Audience(BaseModel):\n",
    "    \"\"\"\n",
    "    Represents the audience for brainstorming ideas.\n",
    "\n",
    "    Attributes:\n",
    "        age (str): The age of the audience.\n",
    "        attributes (List[str]): List of attributes describing the audience.\n",
    "    \"\"\"\n",
    "    age: str\n",
    "    attributes: List[str]\n",
    "\n",
    "\n",
    "class Idea(BaseModel):\n",
    "    \"\"\"\n",
    "    Represents an idea for brainstorming.\n",
    "\n",
    "    Attributes:\n",
    "        title (str): The title of the idea.\n",
    "        detail (str): Detailed description of the idea.\n",
    "        style (str): The artistic style of the idea.\n",
    "        procedure (str): The procedure to produce the idea.\n",
    "    \"\"\"\n",
    "    title: str\n",
    "    detail: str\n",
    "    style: str\n",
    "    procedure: str\n",
    "\n",
    "\n",
    "class Ideas(BaseModel):\n",
    "    \"\"\"\n",
    "    Represents a collection of brainstormed ideas.\n",
    "\n",
    "    Attributes:\n",
    "        ideas (List[Idea]): List of brainstormed ideas.\n",
    "    \"\"\"\n",
    "    ideas: List[Idea]"
   ]
  },
  {
   "cell_type": "markdown",
   "metadata": {},
   "source": [
    "## Define functions"
   ]
  },
  {
   "cell_type": "code",
   "execution_count": 6,
   "metadata": {},
   "outputs": [],
   "source": [
    "def brainstorm_ideas(**kwargs) -> Ideas:\n",
    "    \"\"\"\n",
    "    Brainstorms a diverse set of ideas that emotionally resonate with the audience.\n",
    "\n",
    "    Args:\n",
    "        **kwargs: Keyword arguments representing the audience.\n",
    "\n",
    "    Returns:\n",
    "        Ideas: A collection of brainstormed ideas.\n",
    "\n",
    "    Raises:\n",
    "        Exception: If the validation of the JSON response fails after multiple attempts.\n",
    "    \"\"\"\n",
    "    audience = Audience.model_validate(kwargs)\n",
    "    \n",
    "    # Generate a conversation prompt to be sent to the OpenAI API\n",
    "    conversation = client.create(\n",
    "        messages=[\n",
    "            {\n",
    "                'role':'user',\n",
    "                'content':f'''You are a master visual artist. Brainstorm a diverse set of ideas that emotionally resonate with the audience. Give each idea a title, specify the artistic style, a highly detailed description, and a procedure to produce it.\n",
    "{{\"audience\":{kwargs}}}'''\n",
    "            }\n",
    "        ],\n",
    "        model='gpt-35',\n",
    "    ).choices[0].message.content\n",
    "    \n",
    "    num_try = 0\n",
    "    \n",
    "    schema = Ideas.model_json_schema()\n",
    "\n",
    "    while num_try < 3:\n",
    "        # Request a response from the OpenAI API based on the conversation prompt\n",
    "        response = client.create(\n",
    "            messages=[\n",
    "                {\n",
    "                    'role':'user',\n",
    "                    'content':f'''You will return a JSON object according this json schema: {schema} \\n\\n Based on the following conversation:{conversation} \\n\\nReturn the JSON object only.''',\n",
    "                }\n",
    "            ]\n",
    "        ).choices[0].message.content\n",
    "        \n",
    "        try:\n",
    "            # Validate the response against the expected JSON schema\n",
    "            return Ideas.model_validate_json(response)\n",
    "        except:\n",
    "            pass\n",
    "\n",
    "    # If validation fails after multiple attempts, raise an exception\n",
    "    raise Exception()"
   ]
  },
  {
   "cell_type": "markdown",
   "metadata": {},
   "source": [
    "## Test the function and dump a brainstorm idea"
   ]
  },
  {
   "cell_type": "code",
   "execution_count": 7,
   "metadata": {},
   "outputs": [
    {
     "data": {
      "text/plain": [
       "Ideas(ideas=[Idea(title='Techno Dreams', detail='\"Techno Dreams\" is a visually dynamic representation of the fast-paced and ever-evolving world of technology. The artwork consists of vibrant, interconnecting lines and shapes that symbolize connectivity, data flow, and innovation. The colors used are predominantly shades of electric blue, neon green, and metallic silver to convey a futuristic aesthetic. The artwork is filled with energy, mirroring the audience\\'s energetic nature and aspirations as computer scientists.', style='Digital Art/Abstract', procedure='1. Start by sketching the basic layout of the artwork, focusing on the flow and movement of the interconnected lines and shapes. 2. Digitize the sketch using a graphic design software, ensuring smooth and crisp lines. 3. Begin filling the shapes with shades of electric blue and neon green, creating a sense of depth and dimension. 4. Introduce metallic silver accents, highlighting key elements to signify technological advancements. 5. Enhance the sense of energy by incorporating motion blurs and light effects to the lines and shapes. 6. Fine-tune the composition, adjusting the placement of elements and color balance for maximum impact. 7. Export the artwork in high resolution and print it on a large canvas to showcase its intricate details and lively colors.'), Idea(title='Journey of Discovery', detail='\"Journey of Discovery\" is a mixed media artwork that visually represents the transition from the academic world to real-life experiences. It portrays a collage-like composition comprising photographs, newspaper clippings, handwritten notes, and vibrant painted elements. The focal point of the artwork is a stylized compass, symbolizing the audience\\'s quest for knowledge and self-discovery. As aspiring computer scientists, this artwork resonates deeply with their journey of exploring new aspects of technology and their own place in the industry.', style='Mixed Media/Collage', procedure=\"1. Collect various photographs, newspaper clippings, and other ephemeral materials related to technology, education, and travel. 2. Handwrite inspirational quotes, memorable phrases, or personal reflections on paper, highlighting thoughts related to the transition from undergraduate study to the professional world. 3. Arrange and layer the collected materials on a large canvas, creating a visually engaging composition with overlapping elements. 4. Paint a stylized compass at the center of the artwork, using bold and contrasting colors to make it stand out. 5. Incorporate computer-related icons and symbols throughout the collage to reinforce the theme of the piece. 6. Add additional painted elements, such as splatters or brushstrokes, to unify the different components. 7. Seal the collage with a layer of varnish to protect the materials and provide a glossy finish. 8. Finally, matte and frame the artwork, considering a contemporary frame design that complements the mixed media nature and fits well with the target audience's aesthetics.\"), Idea(title='Minds Unleashed', detail='\"Minds Unleashed\" is a large-scale graffiti artwork that captures the spirit of youthful energy and ambition found among undergraduate computer science students. The piece features a vibrant color palette of graffiti-style lettering and bold, geometric designs. The central focus is a group of characters bursting with strength and determination, each representing a different area of technology expertise. This visually striking artwork leaves a lasting impact, resonating with the audience\\'s energetic and ambitious nature.', style='Street Art/Graffiti', procedure='1. Select a prominent public wall suitable for graffiti and secure permission for the artwork. 2. Sketch a basic composition on paper, incorporating dynamic characters and bold lettering related to computer science and different areas of technology expertise. 3. Using high-quality spray paints, apply a vibrant base layer to the wall, selecting energetic colors such as neon green, electric blue, and hot pink. 4. Begin outlining the characters and lettering with contrasting colors, using thick and thin lines to create depth and visual interest. 5. Fill the outlined elements with additional colors, carefully choosing tones that complement and enhance the overall composition. 6. Introduce geometric patterns and shapes around the characters, adding another layer of visual complexity and symbolizing the intersection of various technology fields. 7. Enhance the depth and details by incorporating highlights and shadows using spray paint cans and stencils. 8. Once the artwork is complete, apply a clear protective coating to safeguard it from weathering and vandalism. 9. Document the finished artwork with high-resolution photographs, capturing its scale and vibrant colors to share with a wider audience.')])"
      ]
     },
     "execution_count": 7,
     "metadata": {},
     "output_type": "execute_result"
    }
   ],
   "source": [
    "audience = Audience(age='18-22', attributes=['energetic', 'undergraduate', 'aspiring computer scientist'])\n",
    "brainstorm_ideas(**audience.model_dump())"
   ]
  },
  {
   "cell_type": "markdown",
   "metadata": {},
   "source": [
    "## Copy the content of \"detail\" into Mid-Journey and check for the results"
   ]
  },
  {
   "cell_type": "markdown",
   "metadata": {},
   "source": [
    "This part is manually done on a private discord server. The output can be found in the folder \"midjourney_outputs\" of this repository."
   ]
  }
 ],
 "metadata": {
  "colab": {
   "provenance": []
  },
  "kernelspec": {
   "display_name": "Python 3 (ipykernel)",
   "language": "python",
   "name": "python3"
  },
  "language_info": {
   "codemirror_mode": {
    "name": "ipython",
    "version": 3
   },
   "file_extension": ".py",
   "mimetype": "text/x-python",
   "name": "python",
   "nbconvert_exporter": "python",
   "pygments_lexer": "ipython3",
   "version": "3.8.13"
  }
 },
 "nbformat": 4,
 "nbformat_minor": 4
}
