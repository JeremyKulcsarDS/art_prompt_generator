{
 "cells": [
  {
   "cell_type": "markdown",
   "metadata": {},
   "source": [
    "# Mid-Journey artistic idea prompt generator"
   ]
  },
  {
   "cell_type": "markdown",
   "metadata": {},
   "source": [
    "- In this notebook, we will implement a brainstorming ideas function using OpenAI's GPT-3.5 model.\n",
    "- The function will take features from an audience as input and generate a collection of diverse ideas that emotionally resonate with it.\n",
    "- The ideas will be sent to Mid-Journey to generate artistic pictures that ultimately fit the target audience.."
   ]
  },
  {
   "cell_type": "markdown",
   "metadata": {},
   "source": [
    "## Import libraries"
   ]
  },
  {
   "cell_type": "code",
   "execution_count": 4,
   "metadata": {},
   "outputs": [],
   "source": [
    "import requests\n",
    "import json\n",
    "import os\n",
    "\n",
    "from dotenv import load_dotenv\n",
    "from pydantic import BaseModel\n",
    "from typing import Literal, List\n",
    "\n",
    "import autogen\n",
    "from autogen import OpenAIWrapper, ConversableAgent, UserProxyAgent"
   ]
  },
  {
   "cell_type": "markdown",
   "metadata": {},
   "source": [
    "## Load configurations"
   ]
  },
  {
   "cell_type": "code",
   "execution_count": 2,
   "metadata": {},
   "outputs": [
    {
     "data": {
      "text/plain": [
       "False"
      ]
     },
     "execution_count": 2,
     "metadata": {},
     "output_type": "execute_result"
    }
   ],
   "source": [
    "load_dotenv()"
   ]
  },
  {
   "cell_type": "code",
   "execution_count": 16,
   "metadata": {},
   "outputs": [],
   "source": [
    "config_list = autogen.config_list_from_models(\n",
    "    model_list=[\"gpt-3.5\"],\n",
    ")\n",
    "\n",
    "client = OpenAIWrapper(config_list=config_list)"
   ]
  },
  {
   "cell_type": "markdown",
   "metadata": {},
   "source": [
    "## Define classes"
   ]
  },
  {
   "cell_type": "code",
   "execution_count": 26,
   "metadata": {},
   "outputs": [],
   "source": [
    "class Audience(BaseModel):\n",
    "    \"\"\"\n",
    "    Represents the audience for brainstorming ideas.\n",
    "\n",
    "    Attributes:\n",
    "        age (str): The age of the audience.\n",
    "        attributes (List[str]): List of attributes describing the audience.\n",
    "    \"\"\"\n",
    "    age: str\n",
    "    attributes: List[str]\n",
    "\n",
    "\n",
    "class Idea(BaseModel):\n",
    "    \"\"\"\n",
    "    Represents an idea for brainstorming.\n",
    "\n",
    "    Attributes:\n",
    "        title (str): The title of the idea.\n",
    "        detail (str): Detailed description of the idea.\n",
    "        style (str): The artistic style of the idea.\n",
    "        procedure (str): The procedure to produce the idea.\n",
    "    \"\"\"\n",
    "    title: str\n",
    "    detail: str\n",
    "    style: str\n",
    "    procedure: str\n",
    "\n",
    "\n",
    "class Ideas(BaseModel):\n",
    "    \"\"\"\n",
    "    Represents a collection of brainstormed ideas.\n",
    "\n",
    "    Attributes:\n",
    "        ideas (List[Idea]): List of brainstormed ideas.\n",
    "    \"\"\"\n",
    "    ideas: List[Idea]"
   ]
  },
  {
   "cell_type": "markdown",
   "metadata": {},
   "source": [
    "## Define functions"
   ]
  },
  {
   "cell_type": "code",
   "execution_count": 27,
   "metadata": {},
   "outputs": [],
   "source": [
    "def brainstorm_ideas(**kwargs) -> Ideas:\n",
    "    \"\"\"\n",
    "    Brainstorms a diverse set of ideas that emotionally resonate with the audience.\n",
    "\n",
    "    Args:\n",
    "        **kwargs: Keyword arguments representing the audience.\n",
    "\n",
    "    Returns:\n",
    "        Ideas: A collection of brainstormed ideas.\n",
    "\n",
    "    Raises:\n",
    "        Exception: If the validation of the JSON response fails after multiple attempts.\n",
    "    \"\"\"\n",
    "    audience = Audience.model_validate(kwargs)\n",
    "    \n",
    "    # Generate a conversation prompt to be sent to the OpenAI API\n",
    "    conversation = client.create(\n",
    "        messages=[\n",
    "            {\n",
    "                'role':'user',\n",
    "                'content':f'''You are a master visual artist. Brainstorm a diverse set of ideas that emotionally resonate with the audience. Give each idea a title, specify the artistic style, a highly detailed description, and a procedure to produce it.\n",
    "{{\"audience\":{kwargs}}}'''\n",
    "            }\n",
    "        ],\n",
    "        model='gpt-35',\n",
    "    ).choices[0].message.content\n",
    "    \n",
    "    num_try = 0\n",
    "    \n",
    "    schema = Ideas.model_json_schema()\n",
    "\n",
    "    while num_try < 3:\n",
    "        # Request a response from the OpenAI API based on the conversation prompt\n",
    "        response = client.create(\n",
    "            messages=[\n",
    "                {\n",
    "                    'role':'user',\n",
    "                    'content':f'''You will return a JSON object according this json schema: {schema} \\n\\n Based on the following conversation:{conversation} \\n\\nReturn the JSON object only.''',\n",
    "                }\n",
    "            ]\n",
    "        ).choices[0].message.content\n",
    "        \n",
    "        try:\n",
    "            # Validate the response against the expected JSON schema\n",
    "            return Ideas.model_validate_json(response)\n",
    "        except:\n",
    "            pass\n",
    "\n",
    "    # If validation fails after multiple attempts, raise an exception\n",
    "    raise Exception()"
   ]
  },
  {
   "cell_type": "markdown",
   "metadata": {},
   "source": [
    "## Test the function and dump a brainstorm idea"
   ]
  },
  {
   "cell_type": "code",
   "execution_count": 28,
   "metadata": {},
   "outputs": [
    {
     "data": {
      "text/plain": [
       "Ideas(ideas=[Idea(title='Sparks of Creation', detail='This artwork aims to inspire and capture the energetic and creative essence of the audience. Using bold and vibrant colors, it presents a visual explosion of passion, imagination, and potential. The canvas is filled with energetic brushstrokes, overlapping shapes, and swirling lines, symbolizing the chaotic yet beautiful process of harnessing creativity. The artwork is dynamic and multi-dimensional, inviting the viewer to explore different layers and perspectives, just like the intricate world of computer science.', style='Abstract Expressionism', procedure='1. Start by preparing a large canvas and securing it on an easel or flat surface.\\n2. Select a color palette that consists of bright, primary colors like red, blue, yellow, and their complimentary hues.\\n3. Begin by applying a base coat of a bold primary color using a wide brush or palette knife, creating a vibrant background.\\n4. Gradually add layers of contrasting and complementary colors, using both broad and fine brush strokes to create dynamic textures and patterns.\\n5. Experiment with different tools, such as sponges or spatulas, to achieve various effects and textures on the canvas.\\n6. Incorporate curved, swirling lines and shapes into the artwork, representing the constant movement and growth of ideas.\\n7. Create focal points by adding contrasting colors or layering thicker paint in specific areas to draw attention.\\n8. Step back periodically to assess the composition, ensuring a balanced and visually pleasing arrangement of colors and shapes.\\n9. Once satisfied with the overall composition, let the artwork dry completely.\\n10. Finally, apply a thin layer of varnish to protect the painting and enhance the vibrancy of the colors, giving it a professional finish.')])"
      ]
     },
     "execution_count": 28,
     "metadata": {},
     "output_type": "execute_result"
    }
   ],
   "source": [
    "audience = Audience(age='18-22', attributes=['energetic', 'undergraduate', 'aspiring computer scientist'])\n",
    "brainstorm_ideas(**audience.model_dump())"
   ]
  },
  {
   "cell_type": "markdown",
   "metadata": {},
   "source": [
    "## Copy the content of \"detail\" into Mid-Journey and check for the results"
   ]
  },
  {
   "cell_type": "markdown",
   "metadata": {},
   "source": [
    "This part is manually done on a private discord server. The output can be found in the folder \"midjourney_outputs\" of this repository."
   ]
  }
 ],
 "metadata": {
  "colab": {
   "provenance": []
  },
  "kernelspec": {
   "display_name": "Python 3 (ipykernel)",
   "language": "python",
   "name": "python3"
  },
  "language_info": {
   "codemirror_mode": {
    "name": "ipython",
    "version": 3
   },
   "file_extension": ".py",
   "mimetype": "text/x-python",
   "name": "python",
   "nbconvert_exporter": "python",
   "pygments_lexer": "ipython3",
   "version": "3.10.13"
  }
 },
 "nbformat": 4,
 "nbformat_minor": 4
}
